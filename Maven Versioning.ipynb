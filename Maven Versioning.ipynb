{
 "cells": [
  {
   "cell_type": "code",
   "execution_count": 35,
   "metadata": {},
   "outputs": [],
   "source": [
    "import requests\n",
    "from xml.etree import ElementTree\n",
    "import semver"
   ]
  },
  {
   "cell_type": "code",
   "execution_count": 7,
   "metadata": {},
   "outputs": [],
   "source": [
    "request = requests.get('https://artefactrepository.vgwholdings.net/repository/vbo-dev-maven/co/vgw/vbo/player/rest-api/maven-metadata.xml', auth=('<user>', '<password'))"
   ]
  },
  {
   "cell_type": "code",
   "execution_count": 9,
   "metadata": {},
   "outputs": [
    {
     "data": {
      "text/plain": [
       "u'<?xml version=\"1.0\" encoding=\"UTF-8\"?>\\n<metadata>\\n  <groupId>co.vgw.vbo.player</groupId>\\n  <artifactId>rest-api</artifactId>\\n  <versioning>\\n    <latest>0.1.46</latest>\\n    <release>0.1.147</release>\\n    <versions>\\n      <version>0.1.43</version>\\n      <version>0.1.46</version>\\n      <version>0.1.49</version>\\n      <version>0.1.51</version>\\n      <version>0.1.57</version>\\n      <version>0.1.61</version>\\n      <version>0.1.62</version>\\n      <version>0.1.68</version>\\n      <version>0.1.70</version>\\n      <version>0.1.72</version>\\n      <version>0.1.75</version>\\n      <version>0.1.77</version>\\n      <version>0.1.83</version>\\n      <version>0.1.87</version>\\n      <version>0.1.97</version>\\n      <version>0.1.100</version>\\n      <version>0.1.102</version>\\n      <version>0.1.105</version>\\n      <version>0.1.108</version>\\n      <version>0.1.112</version>\\n      <version>0.1.118</version>\\n      <version>0.1.121</version>\\n      <version>0.1.126</version>\\n      <version>0.1.128</version>\\n      <version>0.1.131</version>\\n      <version>0.1.137</version>\\n      <version>0.1.139</version>\\n      <version>0.1.141</version>\\n      <version>0.1.143</version>\\n      <version>0.1.145</version>\\n      <version>0.1.147</version>\\n    </versions>\\n    <lastUpdated>20180306085147</lastUpdated>\\n  </versioning>\\n</metadata>\\n'"
      ]
     },
     "execution_count": 9,
     "metadata": {},
     "output_type": "execute_result"
    }
   ],
   "source": [
    "request.text"
   ]
  },
  {
   "cell_type": "code",
   "execution_count": 37,
   "metadata": {},
   "outputs": [],
   "source": [
    "tree = ElementTree.fromstring(request.text)\n",
    "\n",
    "versions_element = tree.find('versioning').find('versions')"
   ]
  },
  {
   "cell_type": "code",
   "execution_count": 41,
   "metadata": {},
   "outputs": [],
   "source": [
    "version_list = [version.text for version in versions_element.findall('version')]\n",
    "latest_version = '0.0.0'\n",
    "for version in version_list:\n",
    "    latest_version = semver.max_ver(latest_version, version)"
   ]
  },
  {
   "cell_type": "code",
   "execution_count": 42,
   "metadata": {},
   "outputs": [
    {
     "data": {
      "text/plain": [
       "'0.1.147'"
      ]
     },
     "execution_count": 42,
     "metadata": {},
     "output_type": "execute_result"
    }
   ],
   "source": [
    "latest_version"
   ]
  },
  {
   "cell_type": "code",
   "execution_count": null,
   "metadata": {},
   "outputs": [],
   "source": []
  }
 ],
 "metadata": {
  "kernelspec": {
   "display_name": "Python 2",
   "language": "python",
   "name": "python2"
  },
  "language_info": {
   "codemirror_mode": {
    "name": "ipython",
    "version": 2
   },
   "file_extension": ".py",
   "mimetype": "text/x-python",
   "name": "python",
   "nbconvert_exporter": "python",
   "pygments_lexer": "ipython2",
   "version": "2.7.10"
  }
 },
 "nbformat": 4,
 "nbformat_minor": 2
}

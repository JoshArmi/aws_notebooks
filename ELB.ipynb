{
 "cells": [
  {
   "cell_type": "code",
   "execution_count": 78,
   "metadata": {},
   "outputs": [],
   "source": [
    "import boto3\n",
    "session = boto3.Session(profile_name='corpdeveu')\n",
    "client = session.client('elbv2')"
   ]
  },
  {
   "cell_type": "code",
   "execution_count": 79,
   "metadata": {},
   "outputs": [
    {
     "name": "stdout",
     "output_type": "stream",
     "text": [
      "Enter MFA code for arn:aws:iam::753764768369:mfa/joshua.armitage: ········\n"
     ]
    }
   ],
   "source": [
    "elb_dict = client.describe_load_balancers(Names=['vbo-devb-redem-rest-api-elb'])"
   ]
  },
  {
   "cell_type": "code",
   "execution_count": 92,
   "metadata": {
    "scrolled": true
   },
   "outputs": [],
   "source": [
    "elb = elb_dict['LoadBalancers'][0]\n",
    "elb_arn = elb['LoadBalancerArn']"
   ]
  },
  {
   "cell_type": "code",
   "execution_count": 81,
   "metadata": {},
   "outputs": [],
   "source": [
    "listeners_dict = client.describe_listeners(LoadBalancerArn=elb_arn)"
   ]
  },
  {
   "cell_type": "code",
   "execution_count": null,
   "metadata": {
    "scrolled": true
   },
   "outputs": [],
   "source": [
    "listeners_dict['Listeners']"
   ]
  },
  {
   "cell_type": "code",
   "execution_count": 82,
   "metadata": {},
   "outputs": [],
   "source": [
    "listener = [listener for listener in listeners_dict['Listeners'] if listener['Port'] == 443]"
   ]
  },
  {
   "cell_type": "code",
   "execution_count": 83,
   "metadata": {},
   "outputs": [],
   "source": [
    "listener_arn = listener[0]['ListenerArn']"
   ]
  },
  {
   "cell_type": "code",
   "execution_count": 84,
   "metadata": {},
   "outputs": [],
   "source": [
    "rules_dict = client.describe_rules(ListenerArn=listener_arn)"
   ]
  },
  {
   "cell_type": "code",
   "execution_count": 91,
   "metadata": {},
   "outputs": [],
   "source": [
    "tg = {}\n",
    "tg['name'] = 'JoshsSpecialTargetGroup'\n",
    "tg['protocol'] = 'HTTPS'\n",
    "tg['port'] = 443\n",
    "tg['vpcid'] = elb['VpcId']"
   ]
  },
  {
   "cell_type": "code",
   "execution_count": 112,
   "metadata": {},
   "outputs": [],
   "source": [
    "response = client.create_target_group(\n",
    "    Name=tg['name'],\n",
    "    Protocol=tg['protocol'],\n",
    "    Port=tg['port'],\n",
    "    VpcId=tg['vpcid']\n",
    ")\n",
    "response"
   ]
  },
  {
   "cell_type": "code",
   "execution_count": 113,
   "metadata": {
    "scrolled": true
   },
   "outputs": [
    {
     "data": {
      "text/plain": [
       "['arn:aws:elasticloadbalancing:eu-west-1:379807770492:targetgroup/JoshsSpecialTargetGroup/a7d0ce797394b950']"
      ]
     },
     "execution_count": 113,
     "metadata": {},
     "output_type": "execute_result"
    }
   ],
   "source": [
    "target_group_arns = [group['TargetGroupArn'] for group in response['TargetGroups']]\n",
    "target_group_arns"
   ]
  },
  {
   "cell_type": "code",
   "execution_count": 106,
   "metadata": {},
   "outputs": [],
   "source": [
    "def delete_target_groups():\n",
    "    for arn in target_group_arns:\n",
    "        client.delete_target_group(\n",
    "            TargetGroupArn=arn\n",
    "        )"
   ]
  },
  {
   "cell_type": "code",
   "execution_count": 107,
   "metadata": {},
   "outputs": [
    {
     "data": {
      "text/plain": [
       "{'ResponseMetadata': {'HTTPHeaders': {'content-length': '858',\n",
       "   'content-type': 'text/xml',\n",
       "   'date': 'Wed, 14 Feb 2018 06:25:54 GMT',\n",
       "   'x-amzn-requestid': 'e91c88a9-114f-11e8-a072-c370ea171abd'},\n",
       "  'HTTPStatusCode': 200,\n",
       "  'RequestId': 'e91c88a9-114f-11e8-a072-c370ea171abd',\n",
       "  'RetryAttempts': 0},\n",
       " u'Rules': [{u'Actions': [{u'TargetGroupArn': 'arn:aws:elasticloadbalancing:eu-west-1:379807770492:targetgroup/RedemrestapiTarget2GSbzu/89ea4ff8574532c9',\n",
       "     u'Type': 'forward'}],\n",
       "   u'Conditions': [],\n",
       "   u'IsDefault': True,\n",
       "   u'Priority': 'default',\n",
       "   u'RuleArn': 'arn:aws:elasticloadbalancing:eu-west-1:379807770492:listener-rule/app/vbo-devb-redem-rest-api-elb/645137812a2d8c64/917680190e67e421/502f592d45429d4d'}]}"
      ]
     },
     "execution_count": 107,
     "metadata": {},
     "output_type": "execute_result"
    }
   ],
   "source": [
    "rules_dict"
   ]
  },
  {
   "cell_type": "code",
   "execution_count": 114,
   "metadata": {},
   "outputs": [],
   "source": [
    "rule = {}\n",
    "rule['ListenerArn'] = listener_arn\n",
    "rule['Conditions'] = [{\n",
    "    'Field': 'path-pattern',\n",
    "    'Values': ['/redemptions/*']\n",
    "}]\n",
    "rule['Priority'] = 1\n",
    "rule['Actions'] = [{'Type': 'forward', 'TargetGroupArn': target_group_arns[0]}]"
   ]
  },
  {
   "cell_type": "code",
   "execution_count": 115,
   "metadata": {},
   "outputs": [
    {
     "data": {
      "text/plain": [
       "{'ResponseMetadata': {'HTTPHeaders': {'content-length': '1029',\n",
       "   'content-type': 'text/xml',\n",
       "   'date': 'Wed, 14 Feb 2018 06:54:14 GMT',\n",
       "   'x-amzn-requestid': 'de9e15a2-1153-11e8-9d56-395051d6b796'},\n",
       "  'HTTPStatusCode': 200,\n",
       "  'RequestId': 'de9e15a2-1153-11e8-9d56-395051d6b796',\n",
       "  'RetryAttempts': 0},\n",
       " u'Rules': [{u'Actions': [{u'TargetGroupArn': 'arn:aws:elasticloadbalancing:eu-west-1:379807770492:targetgroup/JoshsSpecialTargetGroup/a7d0ce797394b950',\n",
       "     u'Type': 'forward'}],\n",
       "   u'Conditions': [{u'Field': 'path-pattern', u'Values': ['/redemptions/*']}],\n",
       "   u'IsDefault': False,\n",
       "   u'Priority': '1',\n",
       "   u'RuleArn': 'arn:aws:elasticloadbalancing:eu-west-1:379807770492:listener-rule/app/vbo-devb-redem-rest-api-elb/645137812a2d8c64/917680190e67e421/ed0055f1dbb02c0a'}]}"
      ]
     },
     "execution_count": 115,
     "metadata": {},
     "output_type": "execute_result"
    }
   ],
   "source": [
    "create_rule_response = client.create_rule(\n",
    "    ListenerArn=rule['ListenerArn'],\n",
    "    Conditions=rule['Conditions'],\n",
    "    Priority=rule['Priority'],\n",
    "    Actions=rule['Actions']\n",
    ")\n",
    "create_rule_response"
   ]
  },
  {
   "cell_type": "code",
   "execution_count": 116,
   "metadata": {},
   "outputs": [],
   "source": [
    "def delete_rule():\n",
    "    delete_rule_response = client.delete_rule(\n",
    "        RuleArn=create_rule_response['Rules'][0]['RuleArn']\n",
    "    )"
   ]
  },
  {
   "cell_type": "code",
   "execution_count": 118,
   "metadata": {},
   "outputs": [],
   "source": []
  },
  {
   "cell_type": "code",
   "execution_count": null,
   "metadata": {},
   "outputs": [],
   "source": []
  }
 ],
 "metadata": {
  "kernelspec": {
   "display_name": "Python 2",
   "language": "python",
   "name": "python2"
  },
  "language_info": {
   "codemirror_mode": {
    "name": "ipython",
    "version": 2
   },
   "file_extension": ".py",
   "mimetype": "text/x-python",
   "name": "python",
   "nbconvert_exporter": "python",
   "pygments_lexer": "ipython2",
   "version": "2.7.10"
  }
 },
 "nbformat": 4,
 "nbformat_minor": 2
}
